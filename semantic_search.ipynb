{
 "cells": [
  {
   "cell_type": "code",
   "execution_count": 1,
   "id": "688504d9-2d65-4c4a-87ee-48073f91dec9",
   "metadata": {},
   "outputs": [],
   "source": [
    "from sentence_transformers import SentenceTransformer, util\n",
    "import numpy as np"
   ]
  },
  {
   "cell_type": "code",
   "execution_count": null,
   "id": "d6384402-6e91-43e5-bee2-e047161f9bf7",
   "metadata": {},
   "outputs": [],
   "source": []
  },
  {
   "cell_type": "code",
   "execution_count": 2,
   "id": "288b2cdb-6ef3-4d4d-a266-b6fbfeef6d0a",
   "metadata": {},
   "outputs": [
    {
     "data": {
      "application/vnd.jupyter.widget-view+json": {
       "model_id": "2c1495d9d1d640bea6b023a02009eda0",
       "version_major": 2,
       "version_minor": 0
      },
      "text/plain": [
       "  0%|          | 0.00/305M [00:00<?, ?B/s]"
      ]
     },
     "metadata": {},
     "output_type": "display_data"
    }
   ],
   "source": [
    "model = SentenceTransformer('stsb-distilroberta-base-v2')"
   ]
  },
  {
   "cell_type": "code",
   "execution_count": 3,
   "id": "2dd43e7d-6dfb-4b04-9415-52815832cb46",
   "metadata": {},
   "outputs": [],
   "source": [
    "sentence1 = \"I love it when you call me big papa\"\n",
    "sentence2 = \"I love it when you call me big papa\"\n",
    "\n",
    "# encode sentences to get their embeddings\n",
    "embedding1 = model.encode(sentence1, convert_to_tensor=True)\n",
    "embedding2 = model.encode(sentence2, convert_to_tensor=True)\n",
    "\n",
    "# compute similarity scores of two embeddings\n",
    "cosine_scores = util.pytorch_cos_sim(embedding1, embedding2)"
   ]
  },
  {
   "cell_type": "code",
   "execution_count": 4,
   "id": "15385cd0-6763-4de8-bf56-e6eb6dafd490",
   "metadata": {},
   "outputs": [
    {
     "name": "stdout",
     "output_type": "stream",
     "text": [
      "Sentence 1: I love it when you call me big papa\n",
      "Sentence 2: I love it when you call me big papa\n",
      "Similarity score: 0.9999997019767761\n"
     ]
    }
   ],
   "source": [
    "print(\"Sentence 1:\", sentence1)\n",
    "print(\"Sentence 2:\", sentence2)\n",
    "print(\"Similarity score:\", cosine_scores.item())"
   ]
  },
  {
   "cell_type": "code",
   "execution_count": 9,
   "id": "db1fd1f3-2ea5-4add-bc87-5c101ac781f8",
   "metadata": {},
   "outputs": [
    {
     "ename": "TypeError",
     "evalue": "get_reviews_as_list_of_texts() got an unexpected keyword argument 'return_file_names'",
     "output_type": "error",
     "traceback": [
      "\u001b[0;31m---------------------------------------------------------------------------\u001b[0m",
      "\u001b[0;31mTypeError\u001b[0m                                 Traceback (most recent call last)",
      "\u001b[0;32m<ipython-input-9-1dda306f696f>\u001b[0m in \u001b[0;36m<module>\u001b[0;34m\u001b[0m\n\u001b[1;32m      1\u001b[0m \u001b[0;32mfrom\u001b[0m \u001b[0mbarracuda_networks\u001b[0m\u001b[0;34m.\u001b[0m\u001b[0mdata_retriever\u001b[0m \u001b[0;32mimport\u001b[0m \u001b[0;34m*\u001b[0m\u001b[0;34m\u001b[0m\u001b[0;34m\u001b[0m\u001b[0m\n\u001b[1;32m      2\u001b[0m \u001b[0;34m\u001b[0m\u001b[0m\n\u001b[0;32m----> 3\u001b[0;31m \u001b[0mreviews\u001b[0m\u001b[0;34m,\u001b[0m \u001b[0mtarget_review\u001b[0m\u001b[0;34m,\u001b[0m \u001b[0mfile_names\u001b[0m \u001b[0;34m=\u001b[0m \u001b[0mget_reviews_as_list_of_texts\u001b[0m\u001b[0;34m(\u001b[0m\u001b[0mreturn_file_names\u001b[0m\u001b[0;34m=\u001b[0m\u001b[0;32mTrue\u001b[0m\u001b[0;34m)\u001b[0m\u001b[0;34m\u001b[0m\u001b[0;34m\u001b[0m\u001b[0m\n\u001b[0m\u001b[1;32m      4\u001b[0m \u001b[0;31m# print(target_review)bin\u001b[0m\u001b[0;34m\u001b[0m\u001b[0;34m\u001b[0m\u001b[0;34m\u001b[0m\u001b[0m\n",
      "\u001b[0;31mTypeError\u001b[0m: get_reviews_as_list_of_texts() got an unexpected keyword argument 'return_file_names'"
     ]
    }
   ],
   "source": [
    "from barracuda_networks.data_retriever import *\n",
    "\n",
    "reviews, target_review, file_names = get_reviews_as_list_of_texts(return_file_names=True)\n",
    "# print(target_review)bin"
   ]
  },
  {
   "cell_type": "code",
   "execution_count": 6,
   "id": "b9e0ba55-e3c8-435e-97bb-65afe759f2b4",
   "metadata": {},
   "outputs": [],
   "source": [
    "corpus_embeddings = model.encode(reviews, convert_to_tensor=True)"
   ]
  },
  {
   "cell_type": "code",
   "execution_count": 10,
   "id": "69cff2a3-3886-4694-8a6d-0b0f61226276",
   "metadata": {},
   "outputs": [],
   "source": [
    "sentence_embedding = model.encode(target_review, convert_to_tensor=True)\n",
    "top_k=10\n",
    "\n",
    "tmp = util.pytorch_cos_sim(sentence_embedding, corpus_embeddings)\n",
    "cos_scores = tmp[0]\n",
    "\n",
    "top_results = np.argpartition(-cos_scores, range(top_k))[0:top_k]\n",
    "\n",
    "# top_results = np.argpartition(-cos_scores, range(top_k))[0:top_k]"
   ]
  },
  {
   "cell_type": "code",
   "execution_count": 12,
   "id": "354adc91-ce33-456b-ac58-3181c26eabb0",
   "metadata": {},
   "outputs": [
    {
     "name": "stdout",
     "output_type": "stream",
     "text": [
      "Target Review: This was the first Ewan McGregor movie I ever saw outside of Star Wars. Since then I have become a very big Ewan McGregor fan but I still can't bring myself to forgive this movie's existence.<br /><br />My sister has always been a huge Jane Austen fan and because of that, I have been subjected to various of the classics, Emma being one of them. I've always considered them irritating, stupid and boring. However, after watching this terrible rendition, I was forced to admit that the original Emma was delightful and charming. Ewan McGregor scarcely serves a purpose in this film after they hacked and mutilated the part of Frank Churchill. Gweneth Paltrow is ridiculous in an already ridiculous character and the rest of the film is unremarkable and stupid.<br /><br />My recommendation to anybody who is remotely interested in English period drama... go see the originals. If you're a Ewan McGregor fan... believe me, by skipping this film, you haven't missed anything but five minutes collective of him in a silly hat and a bad haircut. \n",
      "\n",
      "Top 10 most similar sentences in corpus:\n",
      "I remember seeing this film in theatres the day it came out. I am a huge Star Wars fan, not some weirdo who dresses up in SW costumes, but someone who truly holds a special place in their heart for the original three films. After seeing this movie back when it was released, I remember being utterly disappointed by it. I also couldn't think of another film that was single-handly ruined by one single character like this movie is. Yes, Jar Jar Binks has to be the worst character, not only in the Star Wars universe, but in any film ever! Trust me, he's that bad. He ruins the movie completely. And he's not even a minor character, he has more screen time than Obi-Wan and Darth Maul! Give me a break Lucas. This is really a kids movie, very childish in so many ways. I just bought the DVD's of the all three prequels the other day. They were on sale. I watched Phantom Menace last night and my thoughts are still the same. Every time a scene would become interesting it was quickly ruined by horrible dialogue or acting, or Jar Jar would walk in. Perhaps the most intense scene of the movie, the Darth Maul/Jedi fight, if absolutely ruined by cutting the scene back to Jar Jar stumbling around. This movie was the biggest letdown. Yes, I was expecting a lot, but this is a really bad movie on its own, not connected to the other three films. The SFX were the only thing worth noting with this horror show. George Lucas should be ashamed of himself. This movie has a terrible plot, horrible acting, even worse dialogue, and almost NO character development. Don't waste your time. (Score: 0.6798)\n",
      "\n",
      "\n",
      "This was one of my favorite movies ever. I watched it once and was curiously confused by the twists and uncertainties in the plot. Then I watched it again and I cried more than I have ever cried in my life. I quietly bawled, tears flowing, through the entire movie. I have recommended it to many people as a great movie, but I don't know of anyone who has seen it. I think I will go look online and see if I can buy it. It is deep, deep, deep, especially for people with mental illness in their family, or let's say emotional illness in our society. Powerful lessons are taught about love and caring for our children. People need lessons on how to love, value, and treat each other selflessly. Most of us spend so much energy, research and resources on technological and financial advancement and so little on human concerns and relationship development. Commentators are complaining that the husband is fantasizing about an idealized wife, but we actually don't have to settle for poor quality relationships. We can learn to value, nurture, support each other and be real. (Score: 0.6664)\n",
      "\n",
      "\n",
      "I never have got why this show was so popular. I honestly never knew. I know that my sister is a big fan and she introduced me to this show. I honestly tried to sit down, watch it and tolerate it, but I just could not!<br /><br />Not only did the animation and ugly character designs makes the animation in \"Clutch Cargo\" look like an animated film by Hayao Miyazaki, but the plots are oh so ridiculous. I just can't stand that obnoxious hideous Sponge. All he does is run around annoying and making fun of people and trying to be competitive and pull corny un-funny jokes. How anyone finds that appealing is beyond me, especially the ADULT AND OLDER TEEN audiences!<br /><br />Here are some Animated titles I recommend:<br /><br />Astérix and Obélix : A funny spoof of Franco-Roman history and those European \"Mythical Sword and Sandals\" epics I grew up on. And *gasp*, it is faithful to the euro-comics as well!<br /><br />Spartakus and the Sun Beneath the Sea (The Engulfed World): An original Sci-Fi Fantasy euro-animation series by the creators of \"Mysterious Cites of Gold\" and \"Ulysse 31\". Has interesting(!) plots and the humor is tolerable.<br /><br />Foster's Home for Imaginary Friends: Yes, a good cartoon that's not so predictable and has likable characters.<br /><br />My Gym Partner is a Monkey: Another good cartoon network show. Man Nickelodeon, I think CN has beat you hands down. (Score: 0.6661)\n",
      "\n",
      "\n",
      "This movie seemed to be almost constantly when I was around seven, and at the time I remember it being totally scary and engrossing. My sister remains freaked out about the little veiny-headed people to this day, so, being the evil little brother that I am, I hunted down a copy to give to her for Christmas, and watched it first.<br /><br />The story is that the hideous Kim Darby, in a hairdo seemingly accomplished by swirlie, has inherited this gorgeous house from her grandmother. Her husband, Jim Hutton, sees all the beautiful windows and space and pool out back and alland would rather live in an apartment in a high-rise. Throughout the movie, there is all this talk about how much work the house needs, saying at one point that a dinner party there will be like \"eating in the subway,\" when all of this is utterly belied by the house itself, which is spectacular. Sure, it's decorated with a comprehensive cross-section of everything wrong with the 70s, but the house itself is a stunner. We later keep hearing about how the couple has \"done so much work\" on the house, thought we never see ANY evidence of this throughout the movie.<br /><br />Anyway, Kim wants to make a study out of this, well, study in the basement, which features a big fireplace that has been bricked up and bolted closed. The handyman keeps telling her that she'd better not open it if she knows what's good for her, but won't explain why. Naturally, she opens it, and soon enough we're hearing little voices saying \"We're free! We're free! She set us free!\"<br /><br />One thing apparent from the start is that Kim's husband is a major jerk. This little time capsule comes from the period in which men thought nothing of telling their wives that they are psychotic rather than even making the slightest attempt to hear what they have to say. Jim is also a bitch to Kim throughout, throwing constant attitude at her and caring about nothing but his job and reputation. There is a little bit of \"topicality\" in that Kim feels like he's going to only be worried about his job for the rest of their marriage, but it seems to me that their problems run far deeper than that.<br /><br />So soon enough strange things start happening, caused, we soon find out, by this race of foot-high men in gorilla suits with strange veiny-headed masks on. For some reason they want Kim. Please don't put too much stock in getting an explanation for this phenomena-ever-as one never comes. You're like, is it witchcraft? Aliens? Ancient Indian burial ground? Ancient Chinese secret? And nothing ever comes. The little ape-men, always accompanied by an inexplicable and wholly ludicrous green light, creep out and cause havoc in the household at regular intervals.<br /><br />After a few brushes with her furry friends, Kim is understandably freaked out and skittish (while her husband, with increasing annoyance, considers her a lunaticwho knew husbands were so eager to consider their wives plumb nuts?), which makes it surprising that she doesn't seem phased in the least when, at the height of her nervousness, the lights in the bathroom go out while she's taking a shower. Kim just showers away, taking no heed. I guess she just really, really had to get that crème rinse out.<br /><br />Spoilers ahead! The attacks increase, with a corresponding drop in viewer interest. But they do at least offer the meager fun of seeing guys cavort around sets made of giant books and stairways designed to make them look small. During all this time, Kim never thinks of just leaving the house. You know, they DO have hotels, Kim. She is supposedly going to spend the night at a friend's house, though the friend never shows up and no one seems to think that's strange. The fools also, though by now it's obvious that the little men are afraid of the light, never turn on the lights. In addition to never considering just bolting up the chimney again during the day, while the little men are sleeping, which is the only method that obviously worked in the past. Idiots.<br /><br />So it all builds toward a fateful evening-after the bearded decorator is killed-in which Kim is drugged by the little beasties. Her friend, Geraldine Ferraro, finally believes her, but still has no problem leaving her alone (while drugged!) to make phone calls and creep around outside. Her husband, now starting to believe her a little bit, leaves her in the house to go have a chat with the handyman. No one considers just taking her out of the house, which destroys any minor scares this thing may have generated on the weak-minded. <br /><br />The whole thing has the air of the script being written way before the film was shot, and of no one caring enough to go back and adjust it. The biggest example of this is all the talk about the house being a wreck, when it's clearly ready for Architectural Digest, and there are other little instances where someone will talk abut something that never happened or whatever. Nevertheless, little creepy guys skulking around in corners does manage to offer a few chills. Someone could remake this movie and have a B-feature on their hands. Too bad such little effort was put into this version.<br /><br />--- Check out other reviews on my website of bad and cheesy movies, Cinema de Merde, cinemademerde.com (Score: 0.6636)\n",
      "\n",
      "\n",
      "There are a great many movies out there that I love and that have inspired me. However, I have never found another film that I love to watch as many times as I can watch Pride and Prejudice, and it still moves me the same each time. This adaption of Jane Austen's novel was done to such perfection I would not change a thing about. The characters are all so lively and so convincing. Each character makes you feel so strongly about them, whether for ill or well. The characters of Mr. Darcy and Elizabeth Bennett are nailed by Colin Firth and Jennifer Euhle. This would have to be my favorite movie ever! (Score: 0.6611)\n",
      "\n",
      "\n",
      "Writing for Rogue Cinema has been a bit of an eye opener for me. I have to admit that, in the past, I've always watched movies and either enjoyed them, or didn't, without much thought to what went into the making of the movie itself. Well, in the past year or two, I've had my eyes opened as to the time and effort it takes to make even the smallest of movies and there's a movie out now that will help everyone to understand the independent film maker and what it takes to make a movie on your own, it's called Horror Business.<br /><br />Horror Business is a documentary that follows three filmmakers as they make their latest projects. The first Mark Borchardt is filming a movie called Scare Me, a horror story about an author battling evil. Horror Business follows Mark as he gets started writing and filming the movie and it's a great glimpse into the world of independent film, as Mark tells his mother that because she's given him money, she's a defacto executive producer on his film, and the behind the scenes footage of the filming is informative too, when the person who was supposed to run the camera doesn't show up, Mark calls on an extra who's run a camera before to do the filming for the night, explaining that the more experience you have in the film industry the more likely it is that you'll get to work if you find yourself on a movie set, which seems to be true!<br /><br />Next is Ron Atkins, a Las Vegas filmmaker who's filming his latest movie, Sins Of Government, a story that revolves around our government really being run by alien reptiles that have taken human form. Ron is a complete commando filmmaker, taking adversity in stride. His philosophy seems to be, just keep filming! Last, but not least, is David Stagnari, a New York film maker, who's film Catharsis seems to be the most 'artsy' of the lot, if that's indeed a word.<br /><br />The word of the day in all of the productions seen in Horror Business is 'work'. As an average moviegoer, you really don't get an idea of what goes into the making even a low budget movie. There are no dressing rooms, there are no divas, there's just a lot of people with a common vision who are working hard to get that vision on film, working twelve hours a day or more with little or no pay, these movies are truly labors of love and you really get to see that in Horror Business.<br /><br />If you've ever wondered about a person who would spend his time and hard earned money just to make a movie, or if you're one of those people whose currently saving their money with a vision in mind, Horror Business is for you. Chris Garetano's movie is a truly honest look at the independent film making process and the people behind and in front of the cameras. After seeing this, you'll never watch another low budget movie in the same way again, and that's a good thing. Horror Business is one of the best documentaries I've ever seen and whether you love horror movies or just movies in general, this will give you an idea of how much work can go into a movie and the love that film makers feel for their projects. It's called Horror Business and it's worth the time and effort you'll spend in finding it! Head on over to Horror Business Movie.com to get it today! And so, until next time when I'll tell you about my documentary, I'm going behind the scenes of a bakery, not because I think it'll be a good movie, just because I like the donuts, remember that the best movies are bad movies. <br /><br />Posted on Monday, May 01 (Score: 0.6584)\n",
      "\n",
      "\n",
      "I saw this movie when I was a teenager and I absolutely loved it. I remember that I cried like a baby. Like so many others, I only saw it once, and I have since scoured everywhere looking for a personal copy to keep. I have just watched Love Story with my daughter, and I was telling her how good \"Sunshine\" was, compared to Love story. We both want to see it now, me because I loved it so much originally, and her because I've told her about how great it is, and how sad it is, and how its the type of movie that never leaves you, once you've seen it, it just touches you. I recall seeing it with a boyfriend in Perth, and we both walked out of the cinema crying our eyes out. He was a very blokey (macho)man, very tough, and I think its the only time I ever saw him cry, not only over a movie, but over anything. I just want to see it again. If anyone knows where I can get a copy, please put a message here. I will be eternally grateful. If anyone reading this has the power to get it on to DVD.... please do so. I imagine there are a lot of us out there who are waiting to see this fabulous movie again. (Score: 0.6575)\n",
      "\n",
      "\n",
      "I have seen two of the three episodes and I have to tell you that this miniseries has me watching every second in awe and wonder. Two hours speed by and I'm watching the encore to make sure I didn't miss anything. I thought Miss Fannings performance was a little weak; but that may only be because her sister is just so talented. The other characters rock however; well written and acted. You care about what happens to them; one way or the other...<br /><br />It is rare for a movie to be written that I can't guess what the writers are thinking, but this one keeps the mystery surrounding it. The last movie to do this for me was \"Identity\" with John Cusack. In fact, there are a few similarities, but they are not intentional. If you enjoyed one, however, you will thoroughly enjoy the other.<br /><br />Great stuff so far. If you missed it the first time; don't pass it by a second. It is worth the watch! (Score: 0.6574)\n",
      "\n",
      "\n",
      "I think it was a wonderful film. I remember when I watched this with my sisters, the oldest said to me that Hindustan people aren't gonna like it because the hero is falling in love with a British (white) girl. And it turns out to be true now that I have come to the boards and read almost every review I could find. I think it was a very beautifully acted, scripted and shot film. I have to agree that Luxmi didn't have much to do but dance and show off her pretty face, but after all if you look at the auditioning process, that's what she was hired to do. They needed a dancer and that's what they got. As per her lack of conversations with Kisna, well maybe that was due to the fact that she couldn't because she had devoted herself to worshiping Krishna and he was always a warrior in training. He didn't love her but had to obey his parents when they said \"marry her\", because of tradition. Since they were kids, he always ignored her why should he talk to her as an adult then? And by the way, if you had an eye for good film-making, you would see that the film is being told from the perspective of Catherine (as things happened and as she imagined other scenarios to have happened) how was she to know if Kisna and Luxmi conversed or not? The film and from the perspective with which it is told, is Catherine's. When you watched 'Titanic', didn't you want to know just a little more about Fabrizio? Didn't you want to a little more about why Guggenheim was aboard the ship with a pregnant teenager? or why explore what was really going on in steerage besides the party? Didn't you want to know Molly a little more? or see other parts of the ship besides first class? I did. But you couldn't because the majority of the film was being told from Rose's (the heroine) perspective. As per the music video you were so fussy about, um, isn't that like in every Bollywood made film? She was dreaming and that was her dream! Hullo!!!! Didn't you see 'Shakti' what sense did the 'Ishq Kameena' music video make other than to say that Shahrukh Khan's character was dreaming? As per the nudity and kissing scenes, I didn't see any. Anyhow, I saw Kisna! and I absolutely loved it! You can only argue about a great film! :-) <br /><br />(Note: my review is in response to the many people who have bashed and continue to bash this intelligent film) (Score: 0.6554)\n",
      "\n",
      "\n",
      "I am a serious film lover who keeps up with the best new films. I stumbled across To End All Wars when it was shown recently on one of the Starz/Encore channels. At the end, I kept asking myself why I had never heard of it. The film is nowhere to be found in Roger Ebert's reviews or Leonard Maltin's annual guide, and yet I suspect that Ebert, at least, would rate this film very highly.<br /><br />I like films that are about something that is important, at least to me, and not just pure entertainment. Not that I don't enjoy a good action-adventure film or light comedy from time to time, but most of the time, I prefer to spend my time watching films that make me think and perhaps even ask questions of myself.<br /><br />To End All Wars is one such film. The Bridge on the River Kwai, which deals with the same historical events, is not, despite its many strong points. In this respect, To End All Wars is the better film, and the one that I am more likely to watch frequently.<br /><br />Despite its title, the film is not really about war. What it is about is the efforts of a small group of men, and one man in particular, to maintain their faith, their sense of values, and their very sanity under horrible, murderous conditions that would drive most men to insanity or to become murderers themselves.<br /><br />The film forces me to ask myself whether I could have done the same under those conditions. To be honest, I'm afraid to ask the question because I may not like the answer.<br /><br />Although the film depicts many horrible things, it is not a depressing film, at least for me. Rather, it's a positive, hopeful film, in the same way that Schindler's List is a positive, hopeful film. If one man, in the case of Schindler, or a small group of men, in the case of the ones in this film, can maintain their sanity, faith, and values in a world that has gone insane, then there is hope for mankind.<br /><br />As for the references to their Christian faith, it is not laid on with a trowel, as it might be in a lesser film. It is simply there as an important part of their lives. Whether or not we share that faith is beside the point. What is important is that they shared it, and that faith helped them to survive.<br /><br />Could the director and the writers have made their points even more effectively? Probably. Would I have liked to have known more about the individual characters? Definitely. Would the film have benefited from a larger budget? Possibly.<br /><br />All of these questions are moot, however. Every film deserves to be judged on its own terms, on the basis of what it is and not what it might have been. Not every film can be another Citizen Kane or Rules of the Game, nor should it be.<br /><br />Taken on its own merits, To End All Wars is an excellent film that I expect to watch many times and recommend to my family and friends as well. The fact that the film never got proper distribution, at least in the United States, and therefore never got the recognition that it deserves, shows just how shallow and superficial the Hollywood film industry has become. Thankfully it is available on DVD. (Score: 0.6547)\n",
      "\n",
      "\n"
     ]
    }
   ],
   "source": [
    "print(\"Target Review:\", target_review, \"\\n\")\n",
    "print(\"Top\", top_k, \"most similar sentences in corpus:\")\n",
    "for idx in top_results[0:top_k]:\n",
    "    print(reviews[idx], \"(Score: %.4f)\" % (cos_scores[idx]))\n",
    "    print(\"\\n\")"
   ]
  },
  {
   "cell_type": "code",
   "execution_count": null,
   "id": "62c8aeb1-c959-43ac-8306-6eab1a86b485",
   "metadata": {},
   "outputs": [],
   "source": []
  }
 ],
 "metadata": {
  "kernelspec": {
   "display_name": "Python 3",
   "language": "python",
   "name": "python3"
  },
  "language_info": {
   "codemirror_mode": {
    "name": "ipython",
    "version": 3
   },
   "file_extension": ".py",
   "mimetype": "text/x-python",
   "name": "python",
   "nbconvert_exporter": "python",
   "pygments_lexer": "ipython3",
   "version": "3.8.1"
  }
 },
 "nbformat": 4,
 "nbformat_minor": 5
}
