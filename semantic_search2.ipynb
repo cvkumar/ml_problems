{
 "cells": [
  {
   "cell_type": "code",
   "execution_count": 1,
   "id": "72a022b7-a63a-4006-84d3-00ad87fb1f6c",
   "metadata": {},
   "outputs": [],
   "source": [
    "from sentence_transformers import SentenceTransformer, util\n",
    "import numpy as np"
   ]
  },
  {
   "cell_type": "code",
   "execution_count": 2,
   "id": "27e4479a-5a8f-4509-b318-fd10b3261618",
   "metadata": {},
   "outputs": [
    {
     "name": "stdout",
     "output_type": "stream",
     "text": [
      "FOUND TARGET LINE OF: This was the first Ewan McGregor movie I ever saw outside of Star Wars. Since then I have become a very big Ewan McGregor fan but I still can't bring myself to forgive this movie's existence.<br /><br />My sister has always been a huge Jane Austen fan and because of that, I have been subjected to various of the classics, Emma being one of them. I've always considered them irritating, stupid and boring. However, after watching this terrible rendition, I was forced to admit that the original Emma was delightful and charming. Ewan McGregor scarcely serves a purpose in this film after they hacked and mutilated the part of Frank Churchill. Gweneth Paltrow is ridiculous in an already ridiculous character and the rest of the film is unremarkable and stupid.<br /><br />My recommendation to anybody who is remotely interested in English period drama... go see the originals. If you're a Ewan McGregor fan... believe me, by skipping this film, you haven't missed anything but five minutes collective of him in a silly hat and a bad haircut.\n",
      "50000\n"
     ]
    }
   ],
   "source": [
    "from barracuda_networks.data_retriever import *\n",
    "\n",
    "reviews, target_review, filenames = get_reviews_as_list_of_texts(return_file_names=True)\n",
    "# print(target_review)bin"
   ]
  },
  {
   "cell_type": "code",
   "execution_count": 3,
   "id": "260daa19-f801-480f-afec-c76e62251473",
   "metadata": {},
   "outputs": [
    {
     "data": {
      "text/plain": [
       "'barracuda_networks/aclImdb/train/unsup/18512_0.txt'"
      ]
     },
     "execution_count": 3,
     "metadata": {},
     "output_type": "execute_result"
    }
   ],
   "source": [
    "filenames[0]"
   ]
  },
  {
   "cell_type": "code",
   "execution_count": 4,
   "id": "6a8a38f2-17ca-4857-8c76-1d1380c489f9",
   "metadata": {},
   "outputs": [],
   "source": [
    "import pandas as pd\n",
    "import numpy as np\n",
    "\n",
    "from sklearn.feature_extraction.text import TfidfVectorizer\n",
    "from sklearn.metrics.pairwise import cosine_similarity\n"
   ]
  },
  {
   "cell_type": "code",
   "execution_count": 5,
   "id": "b02d8edd-26e1-4641-b948-48fff66251c1",
   "metadata": {},
   "outputs": [],
   "source": [
    "df = pd.DataFrame(data={\"reviews\": reviews})"
   ]
  },
  {
   "cell_type": "code",
   "execution_count": 6,
   "id": "d77be171-5e25-45ee-85a8-1e5bf25c0152",
   "metadata": {},
   "outputs": [
    {
     "data": {
      "text/plain": [
       "(50000, 1)"
      ]
     },
     "execution_count": 6,
     "metadata": {},
     "output_type": "execute_result"
    }
   ],
   "source": [
    "df.shape"
   ]
  },
  {
   "cell_type": "code",
   "execution_count": 19,
   "id": "fcc9f9d2-81fd-4cb6-aa25-487b3a25344c",
   "metadata": {},
   "outputs": [],
   "source": [
    "vectorizer = TfidfVectorizer()\n",
    "X = vectorizer.fit_transform(reviews)"
   ]
  },
  {
   "cell_type": "code",
   "execution_count": 20,
   "id": "9bfd4103-d185-4180-903b-e23f47fc0299",
   "metadata": {},
   "outputs": [],
   "source": [
    "target = vectorizer.transform([target_review])"
   ]
  },
  {
   "cell_type": "code",
   "execution_count": 21,
   "id": "e5400a42-8774-47e7-bf4b-1c132bf33c17",
   "metadata": {},
   "outputs": [],
   "source": [
    "tmp = cosine_similarity(target, X)"
   ]
  },
  {
   "cell_type": "code",
   "execution_count": 22,
   "id": "563ff536-26bb-45b7-9c03-05a335487056",
   "metadata": {},
   "outputs": [
    {
     "data": {
      "text/plain": [
       "array([0.09404602, 0.1188567 , 0.06981961, ..., 0.10696507, 0.08451879,\n",
       "       0.05683232])"
      ]
     },
     "execution_count": 22,
     "metadata": {},
     "output_type": "execute_result"
    }
   ],
   "source": [
    "tmp[0]"
   ]
  },
  {
   "cell_type": "code",
   "execution_count": 23,
   "id": "1c4b38d0-9f5d-4be9-ab5b-ed89eb5166dd",
   "metadata": {},
   "outputs": [],
   "source": [
    "indices = np.argpartition(tmp[0], -10)[-10:]"
   ]
  },
  {
   "cell_type": "code",
   "execution_count": 24,
   "id": "4999c8fb-1173-43ca-b8ea-7d52dfe4f8ce",
   "metadata": {},
   "outputs": [
    {
     "data": {
      "text/plain": [
       "array([10982, 36481, 44579, 24887,   701,  5143, 12128, 46254, 12390,\n",
       "       14903])"
      ]
     },
     "execution_count": 24,
     "metadata": {},
     "output_type": "execute_result"
    }
   ],
   "source": [
    "indices"
   ]
  },
  {
   "cell_type": "code",
   "execution_count": 26,
   "id": "f2c6bd70-c1cd-4898-bfb5-69fc1290f084",
   "metadata": {},
   "outputs": [
    {
     "data": {
      "text/plain": [
       "array([0.09404602, 0.1188567 , 0.06981961, ..., 0.10696507, 0.08451879,\n",
       "       0.05683232])"
      ]
     },
     "execution_count": 26,
     "metadata": {},
     "output_type": "execute_result"
    }
   ],
   "source": [
    "tmp[0]"
   ]
  },
  {
   "cell_type": "code",
   "execution_count": 12,
   "id": "78131c77-c382-4b7d-97db-2bfd3cfd4f0d",
   "metadata": {},
   "outputs": [
    {
     "name": "stdout",
     "output_type": "stream",
     "text": [
      "barracuda_networks/aclImdb/train/unsup/18899_0.txt\n",
      "i think the main problem with the movie isn't the movie, it's that people are going in expecting a thriller instead of a drama. yes the major plot points could be covered in 5 minutes.. but that's not the point of drama. your average thriller is about things that happen and happen to have people in them. this movie is about the people and how they feel and cope when something momentous happens. if you appreciate that you'll appreciate the movie better, or not watch it cos it's not something that appeals to you.. and that's fair enough.<br /><br />As far as the film goes, Michelle Williams carries it well. The accent's fine and the various states she goes through as she tries to deal with what has happened never feel you leaving disconnected or not understanding how she got there.<br /><br />McGregor is his usual charming self, tho his is not really a major part (likewise MacFadyen), this is a movie about the mother and so these two don't get an awful lot of screen time.<br /><br />The one fault i'd say is that the passage of time is not particularly well expressed particularly right at the end of the film when what seems to be a present day Ewan is wearing the exact same outfit as in the next scene which must be set sometime after.<br /><br />Regardless, it's a decent movie, but requiring empathy.. so if you prefer action flicks, watch something else.\n",
      "\n",
      "\n",
      "barracuda_networks/aclImdb/train/unsup/46076_0.txt\n",
      "This was nothing to write home about, and even worse little kids won't care about anything that is happening. Quite an embarrassment and with one of the shortest running times (a little over an hour) which is actually a good thing. This story has been done thousand times over, and just about always done better. Ewan McGregor is wasted, and he tries his best with what he's given. Just a huge mistake on not using your voice cast to their full potential. It's called a script, and even the best actors can't save it. Don't waste your time or your kids time. Stick to the Pixar or even some of the Disney movies to be actually entertained. Anyone that gives this a high score needs to have their heads examined. Even a novice knows this is how not to make a good animated film.\n",
      "\n",
      "\n",
      "barracuda_networks/aclImdb/train/unsup/43414_0.txt\n",
      "Keep in mind while reading my comments that I am - and always will be - an avid Star Wars fan. The first three films helped define my childhood and have stayed with me into early adulthood. The themes and the sheer FUN of the trilogy are truly rare in this day and age.<br /><br />That being said, \"The Phantom Menace\" is perhaps one of the worst films I have ever had to sit through, and a disgrace to both Star Wars and Lucasfilm. A true embarrassment, I was near tears through most of the film. Seeing it on opening night, I was thrilled as the trademark intro script scrolled up the screen. Everything that followed was truly horrifying, starting with the most ridiculously stereotypical Asian alien bad guys this side of Ming the Merciless. Add to that a completely dreadful script, way too many effects, no discernable plot line, and dreary \"action\" sequences, and you have yourself a real stinker. And I won't waste any space talking about the apocalyptic disaster that is Jar Jar Binks.<br /><br />Poor Ewan McGregor, Liam Neeson, and Natalie Portman!! Three of the finest actors to grace the screen today, and they have nothing at all to work with. Meanwhile all the dialogue goes to Jar Jar and Anakin, played awfully by Jake Lloyd. Sidenote: Am I the only one concerned with the fact that through the whole movie everyone calls the future Darth Vader \"Annie\"???<br /><br />Darth Maul would be a formidable villain, assuming, of course, that he had any lines, which he doesn't. He is silent during his entire lightsaber duel with Neeson and McGregor, eliminating the verbal duel that was at the heart of Vader's fights with Luke in the original series. His role seems detached and his presence does not seem to effect the sequence of events in the least.<br /><br />And let me say this: there are too many effects. They are not even that impressive, not for a lack of technical wizardry, but because the action they portray is either confusing or non-existent, and there is none of the tension in any of the battle scenes which is even close to that found in its technologically ancient granddaddy, \"A New Hope\". In fact, considering the technology available, the scenario of the battle scenes seems pretty ho-hum-ish if not trite.<br /><br />There is not enough room to write all the terrible things about this movie. They even reduce the Force to microscopic organisms that live in the bloodstream. This was the most disappointing movie experience I have ever had. Mr. Lucas, if you or any of your people read this, please take to heart the ramblings of a disgruntled but faithful fan in order to make Episode II much better.\n",
      "\n",
      "\n",
      "barracuda_networks/aclImdb/train/unsup/43404_0.txt\n",
      "This film is but a feeble reflection of the vision and execution of the original Star Wars trilogy. In the company of Liam Neeson and Ewan McGregor, two truly excellent trained actors, Natalie Portman sounds as if she's reading her lines off the side of a cereal box. Also, I think the only correct application of computer-generated effects in movies is as inconspicuous set elements, or perhaps to simulate something passing by which doesn't require the viewer to pay attention. Having a prominent supporting role filled by a being which only exists in a circuit board is an insult to the viewer. Each of the original 3 films made me want to see the next one in the series; this film made me NOT want to see the next one.\n",
      "\n",
      "\n",
      "barracuda_networks/aclImdb/train/unsup/49055_0.txt\n",
      "This movie is about as exciting to watch as paint drying. Granted, it wasn't a complete loss, Ewan was nice to look at...and someone loaned it to me, so I was spared the expense of movie rental. There are worse movies and there are far better movies, but I honestly watched it because I'm in the process of watching Ewan McGregor movies because he has this presence that is so strong that you just have to watch his work because he draws you in, and you end up sitting there watching, totally mesmerized. Very commanding! Now, only if Rogue Trader were a strong enough movie to carry him....\n",
      "\n",
      "\n",
      "barracuda_networks/aclImdb/train/unsup/49971_0.txt\n",
      "As far as serial- killer films and thrillers are concerned this one's right down there with the worst of 'em. Only \"Copycat\" and \"Sisters\" manage to be more annoying in their absurdity, and only \"Saw\" is worse. And it's a pity because the first hour is genuinely eerie, with a fittingly claustrophobic mortuary as the ideal setting. I am a very jaded viewer, but some of those early mortuary scenes really get under your skin. However, after an hour it all goes downhill, and I mean steeply. The relentlessly stupid plot twists rob you of all patience and the movie just keeps sinking to new lows. All logic is thrown into the wind, and the viewer's intelligence is insulted and pounded upon repeatedly with more force than that baseball bat could ever have generated - the one used by Nolte and McGregor. (I'd be the first to sign up if they were looking for volunteers to take that baseball bat and bash the heads of the writers of this nonsense.) Nothing here adds up. Absolutely nothing. Nolte was molesting corpses decades earlier and the writers of this film would have us believe that this man could years later become the city's chief police investigator! Making him the killer is as absurd as giving Thomas Edison credit for inventing the wheel, as laughable as a conspiracy-theory plot from the \"X-Files\", and as stupid as Kim Basinger's book on how to solve all of world's problems (if she'd ever write one). The very notion that a man - so disturbed that he indulges in necrophilia in mortuaries - would have the sanity, interest, patience, and willingness to climb all the way to chief investigator in a police department only to start a savage murder spree is simply a mind-bogglingly dumb, far-fetched concept to me.<br /><br />And how the hell did he even start with the framing of McGregor? This is an essential piece of the puzzle that is badly missing here; McGregor JUST HAPPENS to get a job where he meets Nolte. And McGregor's best friend, Brolin, JUST HAPPENS to know a prostitute who is Nolte's play toy (and later victim). It can sure be a small, small world in a Hollywood stinker! And to add some silliness, Brolin is some kind of a deranged thrill-seeker who acts like a total lunatic all the time. Obviously, he is the decoy for the viewer; we are meant to treat him as the suspect. But how dumb do they think we are? And how the hell did Brolin get into the mortuary when he carried out his \"practical joke\"? And how the hell did Nolte manage to drag out a body of one of his victims within seconds of McGregor entering the room, without McGregor noticing it (the fact that he had his walkman on and/or was singing and/or talking doesn't make it any more believable)? And what's with this annoying scene where Arquette JUST HAPPENS to walk into the mortuary at exactly the moment when McGregor is hitting Nolte with a baseball bat and predictably starts thinking her boyfriend is the killer??! More annoyances came from the scene in which Brolin's reaction to McGregor's telling him that the latter is been suspected of murder is to laugh! Or the one in which he cuts off his own thumb in order to free himself and save the others. Sure,... why not?? (\"I am being hand-cuffed to this metal pole, and as a result can neither save my friends nor myself... What do I do...? I know!... I'll cut my thumb off! How come I didn't think of that before!?...\") Nolte makes the best out of his role, but due to the bitchingly silly script he appears to be hamming it up too much at the end - but what choice did he have? McGregor is solid, too, apart from his on-and-off accent (which was it now? American or English?).\n",
      "\n",
      "\n",
      "barracuda_networks/aclImdb/train/unsup/18901_0.txt\n",
      "I was at the premiere of this film last night at the Sundance Film Festival. It was obvious that Sharon was very nervous, but she was gracious and funny and I could see how that transferred to her film Bridget Jones's Diary which I loved.<br /><br />This, however, couldn't be further removed from that. To use one of Sharon's own terms, as a friend put it, the whole film was \"eggy\". Overdone, pleading with the audience to cry for sympathy for the main character. I don't really even know where to start. The little boy was adorable and precocious, almost to the point of being cartoon-like. Michelle Williams' hangdog \"I'm sad and smoking a cigarette\" schtick soon became old.<br /><br />The film starts out alright enough, with the setup of the husband who's always working, the connection between mother and son, etc. Suddenly she is in bed with the very on-point Ewan McGregor, and a bomb explodes at the soccer stadium where her husband and son are. This moment is good - frightening, shocking. But the heavy overlays of jaunting piano music and slow motion running or crying or whatever are so saturated that it's impossible to really connect.<br /><br />As most of us know, symbolism is best when subtle and stripped down. Well be prepared to have it wacked over your head in this film. Her son has a stuffed bunny animal that he always carries, and after he's dead of course this becomes the representation of her son. They reference the bunny so many times that it's no longer a special memento. Once she starts stalking the son of one of the suicide bombers, it just fails to make sense any longer. She predictably bonds with the son out of nowhere (I literally leaned over and said \"She's going to buy him a cricket bat\" to a friend after the boy mentioned his dad was supposed to buy him one for his birthday...and lo and behold, she did) and then suddenly there's a standoff at the train station where she gets apparently shot in the head and has not a scratch to show for it. <br /><br />An additional thing that bothered me is her character apparently has all these amazing traits that men are dying for. Ewan seems suddenly \"turned around\" from a womanizing yuppie telling her that she's just so different from everyone he knows. Her husband's old boss tells her she's an amazing woman and spews ridiculous romantic crap about \"laying in a caravan with the dust particles in the air\" or \"taking all the hundreds of pieces of your broken heart and putting it back together\". What is so remarkable about this woman? She's just gone through a terrible loss, but that has nothing to do with her character or personality. Nothing shown tells me that she is deserving of this attention.<br /><br />This combined with the in and out narration, apparently letters dedicated to Osama Bin Laden, the hot-air balloon with the picture of her son, the underuse of the engaging Ewan McGregor character, the random relationship with the bomber's son, and the obvious \"Oscar nomination\" scene of Michelle Williams screaming \"My baby! My baby!\" all comes together for one totally over the top melodrama that leaves the viewer with no real connection to anyone. If they had stripped it down by about 90% it would be watchable. <br /><br />It does make me sad that I found this film so unenjoyable, because it was obvious that the director was very nervous and had put her soul and time into it's making. However, I don't see any way to fix the many glaring issues there are. Instead of seeing this, I would recommend popping in Bridget Jones's Diary and enjoying Sharon Maguire in her best medium.\n",
      "\n",
      "\n",
      "barracuda_networks/aclImdb/train/unsup/46077_0.txt\n",
      "Valiant, voiced by Ewan McGregor, is a small pigeon hoping to join the elite Royal Homing Pigeon Service, a group of carrier pigeons serving Her Majesty during WWII. He's finally accepted into the motley \"Squad F\" crew who find themselves on a dangerous mission to rescue a captured pigeon, voiced by John Cleese.<br /><br />Valiant tries to appeal to both adults and kids but it ends up alienating both of them. The WWII concept is a nice idea but they really didn't do anything interesting with it. The whole idea will go over the kids since they won't be familiar with it so the film relies on cheap gags for laughs. The usual burping, crashing and lame bird jokes are all present here and only a few of them actually work. Adults and teens will probably not be pleased with the humor since it's very obvious and stupid. Luckily, the film is really short and there isn't too much to sit through. The sad part is that the three credited screenwriters couldn't even come up with enough fresh and interesting material to cover 75 minutes worth of film.<br /><br />I think the main reason why the film is so lackluster is because of the weak cast. None of the actors seem to be trying and most of the characters aren't very interesting. Ewan McGregor is a pretty good actor when he appears on screen. As a voice actor, he's below average and his voice was all wrong for Valiant. Ricky Gervais gives the only interesting performance as the voice of Bugsy but he can't really save the film. John Cleese was only average and he's barely in the film. Besides for the last two, there really weren't any other notable characters or performances.<br /><br />Maybe I'm being a little too harsh on the movie but the effort here was very weak. The story was very obvious and predictable. The humor was very lame and stupid. The characters were all flat and uninteresting. The best thing about the movie was the animation and that was only average. Compared to recent films like Robots and The Incredibles, the animation just didn't look very good and it hardly saves the film. In the end, Valiant is mostly a harmless film but it's also a dull one and it isn't worth watching. Rating 4/10\n",
      "\n",
      "\n",
      "barracuda_networks/aclImdb/train/unsup/6537_0.txt\n",
      "Saw this at our local film festival. Feels very heavily influenced in terms of style and presentation by Britain's Trainspotting - the main protagonist haircut, cachetic physique, overdose scenes, etc. Still, the lead can give Ewan McGregor a run for his money in the acting department. Of course, the story is completely different from Trainspotting.<br /><br />Well constructed and developed story. One can feel the main character's escalating paranoid and eventual loss of control as circumstances and events got too big for him to handle. Was there really such a character in real life? Poor chap.\n",
      "\n",
      "\n",
      "barracuda_networks/aclImdb/train/unsup/49970_0.txt\n",
      "I love movies, and I am very forgiving of most of them. (I usually like thriller/suspense movies.) But Nightwatch I gave a 1. I never give movies a 1. It's especially odd in this case as I usually LOVE Ewan McGregor. But even he (and all of it's other big-name stars) could not save this poorly written, badly executed, gross, retarded-plot movie.<br /><br />A law student has a whacked out, bored best friend, a really nice but under-defined girlfriend, some sort of poorly outlined, difficult childhood past and then gets a job as a nightwatchman in a morgue to pay for school. (This involves checking to make sure that the bodies are okay each night.) The plot just gets worse from there. I won't go into details, but realize that it's set in a morgue (just go with that image for a second), involves really icky mental disorders, hookers, bored twenty-somethings and a serial killer.<br /><br />Perhaps Nick Nolte's worst role EVER. Ewan McGregor just looks embarrassed, as do Josh Brolin and Patricia Arquette. Filled with gratuitous nastiness and gross-out violence, this movie, rather than being redeemed by such a good cast, serves only to add a black mark to their career resumes.<br /><br />As I said, I love movies and rarely, rarely, rarely diss them this hard, but I honestly believe that this is the worst movie I have ever seen.\n",
      "\n",
      "\n"
     ]
    }
   ],
   "source": [
    "for i in indices:\n",
    "    print(filenames[i])\n",
    "    print(reviews[i])\n",
    "    print(\"\\n\")"
   ]
  },
  {
   "cell_type": "code",
   "execution_count": null,
   "id": "d6dcc0ff-4359-462d-b328-4ddb0cca13a5",
   "metadata": {},
   "outputs": [],
   "source": []
  }
 ],
 "metadata": {
  "kernelspec": {
   "display_name": "Python 3",
   "language": "python",
   "name": "python3"
  },
  "language_info": {
   "codemirror_mode": {
    "name": "ipython",
    "version": 3
   },
   "file_extension": ".py",
   "mimetype": "text/x-python",
   "name": "python",
   "nbconvert_exporter": "python",
   "pygments_lexer": "ipython3",
   "version": "3.8.1"
  }
 },
 "nbformat": 4,
 "nbformat_minor": 5
}
